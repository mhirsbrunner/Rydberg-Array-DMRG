{
 "cells": [
  {
   "cell_type": "code",
   "execution_count": 1,
   "metadata": {
    "tags": []
   },
   "outputs": [],
   "source": [
    "import numpy as np\n",
    "import matplotlib.pyplot as plt\n",
    "from mpl_toolkits.axes_grid1 import make_axes_locatable, axes_size\n",
    "plt.style.use('~/line_plot.mplstyle')\n",
    "\n",
    "import json, os, pickle\n",
    "from scipy.signal import argrelmin\n",
    "from pathlib import Path\n",
    "\n",
    "C6 = 2 * np.pi * .862690"
   ]
  },
  {
   "cell_type": "code",
   "execution_count": 2,
   "metadata": {
    "tags": []
   },
   "outputs": [],
   "source": [
    "# top_dir = \"/global/homes/m/mhirsbru/Rydberg-Array-DMRG/data/1d/23-07-14_14-01-12\"\n",
    "# top_dir = \"/global/homes/m/mhirsbru/Rydberg-Array-DMRG/data/1d/good_runs/full_range_pretty_good\"\n",
    "# top_dir = \"/global/homes/m/mhirsbru/Rydberg-Array-DMRG/data/1d/good_runs/Z4\"\n",
    "\n",
    "top_dir = \"/global/homes/m/mhirsbru/Rydberg-Array-DMRG/data/square/23-07-18_13-33-39\"\n",
    "\n",
    "data_dir = top_dir + \"/phase_diagram_data\"\n",
    "\n",
    "f_names = os.listdir(data_dir)\n",
    "\n",
    "rbs_over_a = []\n",
    "deltas_over_omega = []\n",
    "\n",
    "groundstate_energies = []\n",
    "energy_gaps = []\n",
    "stag_mags = []\n",
    "ent_entropies = []\n",
    "\n",
    "for f_name in f_names:\n",
    "\n",
    "  with open(Path(data_dir, f_name), 'r') as f:\n",
    "    data_dict = json.load(f)\n",
    "\n",
    "  omega = data_dict[\"params\"][\"ham_config\"][\"omega\"]\n",
    "    \n",
    "  Rb = (C6 / omega) ** (1 / 6)\n",
    "\n",
    "  rbs_over_a.append(Rb / data_dict[\"params\"][\"ham_config\"][\"a\"])\n",
    "  deltas_over_omega.append(data_dict[\"params\"][\"ham_config\"][\"delta\"] / omega)\n",
    "  \n",
    "  groundstate_energies.append(data_dict[\"results\"][\"groundstate_energy\"])\n",
    "  energy_gaps.append(data_dict[\"results\"][\"energy_gap\"])\n",
    "  stag_mags.append(data_dict[\"results\"][\"stag_mag\"])\n",
    "  ent_entropies.append(data_dict[\"results\"][\"entanglement_entropy\"])\n",
    "    \n",
    "rb_over_a = rbs_over_a[0]"
   ]
  },
  {
   "cell_type": "code",
   "execution_count": 3,
   "metadata": {
    "tags": []
   },
   "outputs": [
    {
     "data": {
      "image/png": "[encoded data removed]",
      "text/plain": [
       "<Figure size 864x360 with 3 Axes>"
      ]
     },
     "metadata": {
      "needs_background": "light"
     },
     "output_type": "display_data"
    }
   ],
   "source": [
    "fig, ax = plt.subplots(1, 2, figsize=(12, 5))\n",
    "\n",
    "ax[0].plot(deltas_over_omega, np.abs(stag_mags), 'b.')\n",
    "ax[0].yaxis.label.set_color(\"blue\")\n",
    "ax[0].set_ylabel(r\"$m_s$\")\n",
    "\n",
    "ax_01 = ax[0].twinx()\n",
    "ax_01.plot(deltas_over_omega, energy_gaps, 'g.')\n",
    "ax_01.yaxis.label.set_color(\"green\")\n",
    "ax_01.set_ylabel(r\"$\\Delta E$\")\n",
    "\n",
    "ax[1].plot(deltas_over_omega, ent_entropies, 'r.')\n",
    "ax[1].set_ylabel(r\"$S$\")\n",
    "\n",
    "for axis in ax:\n",
    "    axis.set_xmargin(0)\n",
    "    axis.set_xlabel(r\"$\\Delta/\\Omega$\")\n",
    "\n",
    "plt.tight_layout()\n",
    "plt.show()"
   ]
  },
  {
   "cell_type": "code",
   "execution_count": null,
   "metadata": {},
   "outputs": [],
   "source": []
  },
  {
   "cell_type": "code",
   "execution_count": null,
   "metadata": {},
   "outputs": [],
   "source": []
  }
 ],
 "metadata": {
  "kernelspec": {
   "display_name": "NERSC Python",
   "language": "python",
   "name": "python3"
  },
  "language_info": {
   "codemirror_mode": {
    "name": "ipython",
    "version": 3
   },
   "file_extension": ".py",
   "mimetype": "text/x-python",
   "name": "python",
   "nbconvert_exporter": "python",
   "pygments_lexer": "ipython3",
   "version": "3.9.7"
  }
 },
 "nbformat": 4,
 "nbformat_minor": 4
}
