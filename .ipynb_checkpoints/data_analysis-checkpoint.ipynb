{
 "cells": [
  {
   "cell_type": "code",
   "execution_count": 2,
   "metadata": {},
   "outputs": [],
   "source": [
    "import numpy as np\n",
    "from scipy.signal import argrelmin\n",
    "import matplotlib.pyplot as plt\n",
    "# plt.style.use('~/Dropbox/matplotlib_styles/line_plot.mplstyle')\n",
    "import json\n",
    "import os\n",
    "from pathlib import Path\n",
    "\n",
    "C6 = 2 * np.pi * 862690"
   ]
  },
  {
   "cell_type": "code",
   "execution_count": 3,
   "metadata": {},
   "outputs": [],
   "source": [
    "a_ax = []\n",
    "energies = []\n",
    "densities = []\n",
    "d2E2 = []\n",
    "d2E2_minima = []\n",
    "\n",
    "d_name = \"23-06-16_23-12-32_phase_diagram_data\"\n",
    "f_names = os.listdir(d_name)\n",
    "\n",
    "for f_name in f_names:\n",
    "\n",
    "  with open(Path(d_name, f_name), 'r') as f:\n",
    "    data_dict = json.load(f)\n",
    "    \n",
    "  energies.append(data_dict[\"results\"][\"energies\"])\n",
    "  densities.append(data_dict[\"results\"][\"rydberg_densities\"])\n",
    "\n",
    "  delta_ax = data_dict[\"params\"][\"delta_ax\"]\n",
    "  hamiltonian_params = data_dict[\"params\"][\"hamiltonian_params\"]\n",
    "  dmrg_params = data_dict[\"params\"][\"dmrg_params\"]\n",
    "\n",
    "  a_ax.append(hamiltonian_params[\"a\"])\n",
    "\n",
    "delta_ax = np.array(delta_ax)\n",
    "d_delta = delta_ax[1] - delta_ax[0]\n",
    "\n",
    "for energy in energies:\n",
    "  temp = np.gradient(energy, delta_ax, edge_order=2)\n",
    "  temp = np.gradient(temp, delta_ax, edge_order=2)\n",
    "\n",
    "  d2E2.append(temp)\n",
    "  d2E2_minima.append(np.argmin(temp))\n",
    "\n",
    "omega = hamiltonian_params[\"omega\"]\n",
    "Rb = (C6 / omega) ** (1 / 6)"
   ]
  },
  {
   "cell_type": "code",
   "execution_count": 4,
   "metadata": {},
   "outputs": [],
   "source": [
    "energies = np.array([x for _, x in sorted(zip(a_ax, energies))])\n",
    "d2E2 = np.array([x for _, x in sorted(zip(a_ax, d2E2))])\n",
    "d2E2_minima = np.array([x for _, x in sorted(zip(a_ax, d2E2_minima))])\n",
    "densities = np.array([x for _, x in sorted(zip(a_ax, densities))])\n",
    "a_ax = np.sort(a_ax)\n",
    "\n",
    "minima_x = []\n",
    "minima_y = []\n",
    "for ii, a in enumerate(a_ax):\n",
    "    # for minimum in d2E2_minima[ii]:\n",
    "    #     minima_x.append(delta_ax[minimum] / omega)\n",
    "    #     minima_y.append(Rb / a)\n",
    "    minimum = d2E2_minima[ii]\n",
    "\n",
    "    if minimum == 0 or minimum == len(delta_ax) - 1:\n",
    "        continue\n",
    "    else:\n",
    "        minima_x.append(delta_ax[minimum] / omega)\n",
    "        minima_y.append(Rb / a)"
   ]
  },
  {
   "cell_type": "code",
   "execution_count": 5,
   "metadata": {},
   "outputs": [
    {
     "data": {
      "image/png": "[encoded data removed]",
      "text/plain": [
       "<Figure size 432x288 with 2 Axes>"
      ]
     },
     "metadata": {
      "needs_background": "light"
     },
     "output_type": "display_data"
    }
   ],
   "source": [
    "plt.imshow(energies, cmap=\"YlGnBu\", extent=(delta_ax[0] / omega, delta_ax[-1] / omega, Rb / a_ax[-1], Rb / a_ax[0]), aspect=\"auto\", origin=\"upper\")\n",
    "plt.colorbar()\n",
    "\n",
    "plt.scatter(minima_x, minima_y, s=100, c='red', marker=\"*\")\n",
    "\n",
    "plt.xlabel(r\"$\\Delta/\\Omega$\")\n",
    "plt.ylabel(r\"$R_b/a$\") #Check this axis orientation, etc\n",
    "\n",
    "plt.tight_layout()\n",
    "plt.show()"
   ]
  },
  {
   "cell_type": "code",
   "execution_count": 6,
   "metadata": {},
   "outputs": [
    {
     "ename": "IndexError",
     "evalue": "index 40 is out of bounds for axis 1 with size 4",
     "output_type": "error",
     "traceback": [
      "\u001b[0;31m---------------------------------------------------------------------------\u001b[0m",
      "\u001b[0;31mIndexError\u001b[0m                                Traceback (most recent call last)",
      "\u001b[0;32m/tmp/ipykernel_1449971/812603416.py\u001b[0m in \u001b[0;36m<module>\u001b[0;34m\u001b[0m\n\u001b[1;32m      2\u001b[0m \u001b[0mdelta_ind\u001b[0m \u001b[0;34m=\u001b[0m \u001b[0;36m40\u001b[0m\u001b[0;34m\u001b[0m\u001b[0;34m\u001b[0m\u001b[0m\n\u001b[1;32m      3\u001b[0m \u001b[0;34m\u001b[0m\u001b[0m\n\u001b[0;32m----> 4\u001b[0;31m \u001b[0mplt\u001b[0m\u001b[0;34m.\u001b[0m\u001b[0mplot\u001b[0m\u001b[0;34m(\u001b[0m\u001b[0mdensities\u001b[0m\u001b[0;34m[\u001b[0m\u001b[0ma_ind\u001b[0m\u001b[0;34m,\u001b[0m \u001b[0mdelta_ind\u001b[0m\u001b[0;34m]\u001b[0m\u001b[0;34m,\u001b[0m \u001b[0;34m'ko'\u001b[0m\u001b[0;34m)\u001b[0m\u001b[0;34m\u001b[0m\u001b[0;34m\u001b[0m\u001b[0m\n\u001b[0m\u001b[1;32m      5\u001b[0m \u001b[0mplt\u001b[0m\u001b[0;34m.\u001b[0m\u001b[0mtitle\u001b[0m\u001b[0;34m(\u001b[0m\u001b[0;34mfr\"$R_b / a=${Rb / a_ax[a_ind]:.1f}, $\\Delta/\\Omega$ = {delta_ax[delta_ind]/omega:.1f}\"\u001b[0m\u001b[0;34m)\u001b[0m\u001b[0;34m\u001b[0m\u001b[0;34m\u001b[0m\u001b[0m\n\u001b[1;32m      6\u001b[0m \u001b[0mplt\u001b[0m\u001b[0;34m.\u001b[0m\u001b[0mtight_layout\u001b[0m\u001b[0;34m(\u001b[0m\u001b[0;34m)\u001b[0m\u001b[0;34m\u001b[0m\u001b[0;34m\u001b[0m\u001b[0m\n",
      "\u001b[0;31mIndexError\u001b[0m: index 40 is out of bounds for axis 1 with size 4"
     ]
    }
   ],
   "source": [
    "a_ind = -1\n",
    "delta_ind = 40\n",
    "\n",
    "plt.plot(densities[a_ind, delta_ind], 'ko')\n",
    "plt.title(fr\"$R_b / a=${Rb / a_ax[a_ind]:.1f}, $\\Delta/\\Omega$ = {delta_ax[delta_ind]/omega:.1f}\")\n",
    "plt.tight_layout()\n",
    "plt.show()"
   ]
  },
  {
   "cell_type": "code",
   "execution_count": null,
   "metadata": {},
   "outputs": [],
   "source": []
  }
 ],
 "metadata": {
  "kernelspec": {
   "display_name": "NERSC Python",
   "language": "python",
   "name": "python3"
  },
  "language_info": {
   "codemirror_mode": {
    "name": "ipython",
    "version": 3
   },
   "file_extension": ".py",
   "mimetype": "text/x-python",
   "name": "python",
   "nbconvert_exporter": "python",
   "pygments_lexer": "ipython3",
   "version": "3.9.7"
  }
 },
 "nbformat": 4,
 "nbformat_minor": 4
}
